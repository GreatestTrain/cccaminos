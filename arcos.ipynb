{
 "cells": [
  {
   "cell_type": "code",
   "execution_count": null,
   "metadata": {},
   "outputs": [],
   "source": []
  },
  {
   "cell_type": "code",
   "execution_count": 461,
   "metadata": {},
   "outputs": [],
   "source": [
    "import pandas as pd\n",
    "import numpy as np\n",
    "from itertools import pairwise"
   ]
  },
  {
   "cell_type": "code",
   "execution_count": 462,
   "metadata": {},
   "outputs": [],
   "source": [
    "np.set_printoptions(precision=3, floatmode='fixed', suppress=True)\n",
    "pd.options.display.precision = 3\n",
    "dtype = np.float32"
   ]
  },
  {
   "cell_type": "code",
   "execution_count": 463,
   "metadata": {},
   "outputs": [
    {
     "name": "stdout",
     "output_type": "stream",
     "text": [
      "[[100.000   0.524]\n",
      " [ 90.000   0.698]\n",
      " [110.000   0.349]]\n"
     ]
    }
   ],
   "source": [
    "headers = np.dtype( [('r', dtype), ('alpha', dtype)] )\n",
    "data = np.array(\n",
    "    [\n",
    "        (100., np.deg2rad(30)),\n",
    "        ( 90., np.deg2rad(40)),\n",
    "        (110., np.deg2rad(20)),\n",
    "    ],\n",
    "    # dtype=headers\n",
    ")\n",
    "print(data)"
   ]
  },
  {
   "cell_type": "code",
   "execution_count": 464,
   "metadata": {},
   "outputs": [
    {
     "data": {
      "text/plain": [
       "array([26.795, 32.757, 19.396])"
      ]
     },
     "execution_count": 464,
     "metadata": {},
     "output_type": "execute_result"
    }
   ],
   "source": [
    "def st(array):\n",
    "    if isinstance(array, np.ndarray):\n",
    "        assert array.shape == (2,), 'array shape must be (2,)'\n",
    "    else:\n",
    "        assert len(array) == 2\n",
    "    result = array[0] * np.tan( array[1]/2 )\n",
    "    return result\n",
    "st_vec = lambda matrix: np.apply_along_axis(st, 1, matrix)\n",
    "st_vec(data)"
   ]
  },
  {
   "cell_type": "code",
   "execution_count": 465,
   "metadata": {},
   "outputs": [
    {
     "data": {
      "text/plain": [
       "array([300.000,   1.571])"
      ]
     },
     "execution_count": 465,
     "metadata": {},
     "output_type": "execute_result"
    }
   ],
   "source": [
    "np.sum(data, axis=0)"
   ]
  },
  {
   "cell_type": "code",
   "execution_count": 466,
   "metadata": {},
   "outputs": [
    {
     "data": {
      "text/plain": [
       "array([20.597, 40.736])"
      ]
     },
     "execution_count": 466,
     "metadata": {},
     "output_type": "execute_result"
    }
   ],
   "source": [
    "def diag(array, inverse = True):\n",
    "    llist = []\n",
    "    if inverse: array = array[::-1]\n",
    "    for pair in pairwise(array):\n",
    "        pair_a = np.array(pair)\n",
    "        sum_ = np.sum(st_vec(pair_a))\n",
    "        sum_a = np.sin(np.sum(np.array(pair_a), axis=0)[1])\n",
    "        llist.append(sum_ * np.sin(pair_a[0,1]) / sum_a)\n",
    "    return np.array(llist)\n",
    "diag(data)"
   ]
  },
  {
   "cell_type": "code",
   "execution_count": 467,
   "metadata": {},
   "outputs": [
    {
     "data": {
      "text/plain": [
       "13903.793852415718"
      ]
     },
     "execution_count": 467,
     "metadata": {},
     "output_type": "execute_result"
    }
   ],
   "source": [
    "def pc_calc(data, pi=0):\n",
    "    acc_inv = diag(data, inverse=True)\n",
    "    diff_ = np.sum(st_vec(data)[:2]) + acc_inv[0]\n",
    "    ang_pi = np.sum(data[:,1])\n",
    "    ang_a = (np.pi - (data[0,1] + ang_pi))\n",
    "    diff = (diff_ * np.sin(ang_a) / np.sin(ang_pi)) + st_vec(data)[0]\n",
    "    return pi - diff\n",
    "pc_calc(data, pi=14_000)"
   ]
  },
  {
   "cell_type": "code",
   "execution_count": 468,
   "metadata": {},
   "outputs": [
    {
     "data": {
      "text/plain": [
       "array([[13903.794],\n",
       "       [13956.154],\n",
       "       [14018.986],\n",
       "       [14057.383]])"
      ]
     },
     "execution_count": 468,
     "metadata": {},
     "output_type": "execute_result"
    }
   ],
   "source": [
    "def p_pc(data, pi=0):\n",
    "    pc_ = pc_calc(data, pi)\n",
    "    prod_ = np.prod(data, axis=1)\n",
    "    acc_ = np.add.accumulate(prod_)\n",
    "    return np.insert(acc_ + pc_, 0, pc_, axis=0)\n",
    "p_pc(data, pi=14_000).reshape(-1,1)"
   ]
  },
  {
   "cell_type": "code",
   "execution_count": 470,
   "metadata": {},
   "outputs": [
    {
     "data": {
      "text/plain": [
       "(4, 1)"
      ]
     },
     "execution_count": 470,
     "metadata": {},
     "output_type": "execute_result"
    }
   ],
   "source": [
    "p_pc(data, pi=14_000).reshape(-1,1).shape"
   ]
  },
  {
   "cell_type": "code",
   "execution_count": 471,
   "metadata": {},
   "outputs": [
    {
     "data": {
      "text/html": [
       "<div>\n",
       "<style scoped>\n",
       "    .dataframe tbody tr th:only-of-type {\n",
       "        vertical-align: middle;\n",
       "    }\n",
       "\n",
       "    .dataframe tbody tr th {\n",
       "        vertical-align: top;\n",
       "    }\n",
       "\n",
       "    .dataframe thead th {\n",
       "        text-align: right;\n",
       "    }\n",
       "</style>\n",
       "<table border=\"1\" class=\"dataframe\">\n",
       "  <thead>\n",
       "    <tr style=\"text-align: right;\">\n",
       "      <th></th>\n",
       "      <th>Radios</th>\n",
       "      <th>Angulos</th>\n",
       "      <th>Cota Ac.</th>\n",
       "    </tr>\n",
       "  </thead>\n",
       "  <tbody>\n",
       "    <tr>\n",
       "      <th>0</th>\n",
       "      <td>0.0</td>\n",
       "      <td>0.0</td>\n",
       "      <td>13903.794</td>\n",
       "    </tr>\n",
       "    <tr>\n",
       "      <th>1</th>\n",
       "      <td>100.0</td>\n",
       "      <td>30.0</td>\n",
       "      <td>13956.154</td>\n",
       "    </tr>\n",
       "    <tr>\n",
       "      <th>2</th>\n",
       "      <td>90.0</td>\n",
       "      <td>40.0</td>\n",
       "      <td>14018.986</td>\n",
       "    </tr>\n",
       "    <tr>\n",
       "      <th>3</th>\n",
       "      <td>110.0</td>\n",
       "      <td>20.0</td>\n",
       "      <td>14057.383</td>\n",
       "    </tr>\n",
       "  </tbody>\n",
       "</table>\n",
       "</div>"
      ],
      "text/plain": [
       "   Radios  Angulos   Cota Ac.\n",
       "0     0.0      0.0  13903.794\n",
       "1   100.0     30.0  13956.154\n",
       "2    90.0     40.0  14018.986\n",
       "3   110.0     20.0  14057.383"
      ]
     },
     "execution_count": 471,
     "metadata": {},
     "output_type": "execute_result"
    }
   ],
   "source": [
    "_ = np.concatenate((np.array((0,0)).reshape(1,-1), data), axis=0)\n",
    "_ = np.concatenate((_, p_pc(data, pi=14_000).reshape(-1,1)), axis=1)\n",
    "_ = pd.DataFrame(_, columns=['Radios', 'Angulos', 'Cota Ac.'])\n",
    "_.apply({'Radios': lambda x: x, 'Angulos': np.rad2deg, 'Cota Ac.': lambda x: x})\n",
    "# print(pc_calc(data, pi=14_000))"
   ]
  },
  {
   "cell_type": "code",
   "execution_count": 501,
   "metadata": {},
   "outputs": [],
   "source": [
    "def gen_marks(array, prec = 1):\n",
    "    step = 10 ** prec\n",
    "    start = (array[0] // 10**prec) * step\n",
    "    end = ((array[-1] // 10**prec) + 2) * step\n",
    "    arange = np.arange(start, end, step,)\n",
    "    return np.unique(np.sort(np.concatenate([arange, array])), axis=0)"
   ]
  },
  {
   "cell_type": "code",
   "execution_count": 502,
   "metadata": {},
   "outputs": [
    {
     "data": {
      "text/plain": [
       "array([13900.000, 13903.794, 13910.000, 13920.000, 13930.000, 13940.000,\n",
       "       13950.000, 13956.154, 13960.000, 13970.000, 13980.000, 13990.000,\n",
       "       14000.000, 14010.000, 14018.986, 14020.000, 14030.000, 14040.000,\n",
       "       14050.000, 14057.383, 14060.000])"
      ]
     },
     "execution_count": 502,
     "metadata": {},
     "output_type": "execute_result"
    }
   ],
   "source": [
    "gen_marks(_['Cota Ac.'].values)"
   ]
  },
  {
   "cell_type": "code",
   "execution_count": null,
   "metadata": {},
   "outputs": [],
   "source": [
    "# to do\n",
    "# for mark in gen_marks(_['Cota Ac.'].values):\n",
    "    "
   ]
  }
 ],
 "metadata": {
  "kernelspec": {
   "display_name": "Python 3.10.6 ('ds')",
   "language": "python",
   "name": "python3"
  },
  "language_info": {
   "codemirror_mode": {
    "name": "ipython",
    "version": 3
   },
   "file_extension": ".py",
   "mimetype": "text/x-python",
   "name": "python",
   "nbconvert_exporter": "python",
   "pygments_lexer": "ipython3",
   "version": "3.10.6"
  },
  "orig_nbformat": 4,
  "vscode": {
   "interpreter": {
    "hash": "71dda1f36ff01dd8280b241c9bbd2200903794e3fcef25f2dfa7d2687b44f136"
   }
  }
 },
 "nbformat": 4,
 "nbformat_minor": 2
}
