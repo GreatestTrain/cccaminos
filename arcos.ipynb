{
 "cells": [
  {
   "cell_type": "markdown",
   "metadata": {},
   "source": [
    "# Cálculo de "
   ]
  },
  {
   "cell_type": "code",
   "execution_count": 158,
   "metadata": {},
   "outputs": [],
   "source": [
    "import pandas as pd\n",
    "import numpy as np\n",
    "from itertools import pairwise"
   ]
  },
  {
   "cell_type": "code",
   "execution_count": 159,
   "metadata": {},
   "outputs": [],
   "source": [
    "np.set_printoptions(precision=3, floatmode='fixed', suppress=True)\n",
    "pd.options.display.precision = 3\n",
    "dtype = np.float64"
   ]
  },
  {
   "cell_type": "code",
   "execution_count": 160,
   "metadata": {},
   "outputs": [
    {
     "name": "stdout",
     "output_type": "stream",
     "text": [
      "[[100.000   0.524]\n",
      " [ 90.000   0.698]\n",
      " [110.000   0.349]]\n"
     ]
    }
   ],
   "source": [
    "headers = np.dtype( [('r', dtype), ('alpha', dtype)] )\n",
    "data = np.array(\n",
    "    [\n",
    "        (100., np.deg2rad(30)),\n",
    "        ( 90., np.deg2rad(40)),\n",
    "        (110., np.deg2rad(20)),\n",
    "    ],\n",
    "    # dtype=headers\n",
    ")\n",
    "print(data)"
   ]
  },
  {
   "cell_type": "code",
   "execution_count": 161,
   "metadata": {},
   "outputs": [
    {
     "data": {
      "text/plain": [
       "array([26.795, 32.757, 19.396])"
      ]
     },
     "execution_count": 161,
     "metadata": {},
     "output_type": "execute_result"
    }
   ],
   "source": [
    "def st(array):\n",
    "    if isinstance(array, np.ndarray):\n",
    "        assert array.shape == (2,), 'array shape must be (2,)'\n",
    "    else:\n",
    "        assert len(array) == 2\n",
    "    result = array[0] * np.tan( array[1]/2 )\n",
    "    return result\n",
    "st_vec = lambda matrix: np.apply_along_axis(st, 1, matrix)\n",
    "st_vec(data)"
   ]
  },
  {
   "cell_type": "code",
   "execution_count": 162,
   "metadata": {},
   "outputs": [
    {
     "data": {
      "text/plain": [
       "array([300.000,   1.571])"
      ]
     },
     "execution_count": 162,
     "metadata": {},
     "output_type": "execute_result"
    }
   ],
   "source": [
    "np.sum(data, axis=0)"
   ]
  },
  {
   "cell_type": "code",
   "execution_count": 163,
   "metadata": {},
   "outputs": [],
   "source": [
    "def diag_(array):\n",
    "    assert array.shape == (2,2), \"Array shape must be 2 x 2.\"\n",
    "    sum_ = np.sum(array, axis=0)\n",
    "    angle = (np.pi) - sum_[1]\n",
    "    side = sum_[0]\n",
    "    return np.array(( (side * np.sin(array[0,1]) / np.sin(angle), sum_[1])))"
   ]
  },
  {
   "cell_type": "code",
   "execution_count": 164,
   "metadata": {},
   "outputs": [],
   "source": [
    "test = np.array([\n",
    "    (25, np.deg2rad(13)),\n",
    "    ( 5, np.deg2rad(6)),\n",
    "    (15, np.deg2rad(17)),\n",
    "    (10, np.deg2rad(9))\n",
    "])"
   ]
  },
  {
   "cell_type": "code",
   "execution_count": 165,
   "metadata": {},
   "outputs": [
    {
     "data": {
      "text/plain": [
       "array([8.921, 0.454])"
      ]
     },
     "execution_count": 165,
     "metadata": {},
     "output_type": "execute_result"
    }
   ],
   "source": [
    "diag_(test[::-1][:2])"
   ]
  },
  {
   "cell_type": "code",
   "execution_count": 166,
   "metadata": {},
   "outputs": [],
   "source": [
    "# def diag(array, inverse = True):\n",
    "#     llist = []\n",
    "#     if inverse: array = array[::-1]\n",
    "#     for pair in pairwise(array):\n",
    "#         pair_a = np.array(pair)\n",
    "#         vec_ = st_vec(pair_a)\n",
    "#         sum_ = np.sum(vec_)\n",
    "#         sum_a = np.sin(np.sum(np.array(pair_a), axis=0)[1])\n",
    "#         llist.append((sum_ * np.sin(pair_a[0,1]) / sum_a))\n",
    "#     return np.array(llist)\n",
    "# diag(data)"
   ]
  },
  {
   "cell_type": "code",
   "execution_count": 167,
   "metadata": {},
   "outputs": [
    {
     "data": {
      "text/plain": [
       "array([26.795, 32.757, 19.396])"
      ]
     },
     "execution_count": 167,
     "metadata": {},
     "output_type": "execute_result"
    }
   ],
   "source": [
    "st_vec(data)"
   ]
  },
  {
   "cell_type": "code",
   "execution_count": 168,
   "metadata": {},
   "outputs": [],
   "source": [
    "import copy\n",
    "def diag(array, st_= False):\n",
    "    llist = []\n",
    "    array_ = copy.deepcopy(array)\n",
    "    if st_:\n",
    "        array_[:,0] = st_vec(array)\n",
    "    # print(array_)\n",
    "    for i in range(array_.shape[0] - 1):\n",
    "        op = array_[i:i+2,:]\n",
    "        # print(\"->\", op)\n",
    "        diag__ = diag_(op)\n",
    "        array_[i+1,0] += diag__[0]\n",
    "        array_[i+1,1] = diag__[1]\n",
    "        # print(\"==>\\n\", array_)\n",
    "        # print(\"=>\",op[i])\n",
    "        # print(\"->\",diag__)\n",
    "        llist.append(diag__)\n",
    "    return np.array(llist)"
   ]
  },
  {
   "cell_type": "code",
   "execution_count": 169,
   "metadata": {},
   "outputs": [
    {
     "data": {
      "text/plain": [
       "69.41122834116955"
      ]
     },
     "execution_count": 169,
     "metadata": {},
     "output_type": "execute_result"
    }
   ],
   "source": [
    "diag(data[::-1], st_=True)[-1,0]"
   ]
  },
  {
   "cell_type": "code",
   "execution_count": 170,
   "metadata": {},
   "outputs": [
    {
     "name": "stdout",
     "output_type": "stream",
     "text": [
      "[100.000  90.000 110.000]\n",
      "[26.795 32.757 19.396]\n"
     ]
    }
   ],
   "source": [
    "print(data[:,0])\n",
    "print(st_vec(data))"
   ]
  },
  {
   "cell_type": "code",
   "execution_count": 171,
   "metadata": {},
   "outputs": [
    {
     "data": {
      "text/plain": [
       "array([26.795, 32.757, 19.396])"
      ]
     },
     "execution_count": 171,
     "metadata": {},
     "output_type": "execute_result"
    }
   ],
   "source": [
    "st_vec(data)"
   ]
  },
  {
   "cell_type": "code",
   "execution_count": 172,
   "metadata": {},
   "outputs": [
    {
     "data": {
      "text/plain": [
       "13903.793852415718"
      ]
     },
     "execution_count": 172,
     "metadata": {},
     "output_type": "execute_result"
    }
   ],
   "source": [
    "def pc_calc(data, pi=0):\n",
    "    acc_inv = st_vec(data)[0]\n",
    "    acc_inv += diag(data[::-1], st_=True)[-1,0]\n",
    "    acc_inv = pi - acc_inv\n",
    "    return acc_inv\n",
    "pc_calc(data, pi=14_000)"
   ]
  },
  {
   "cell_type": "code",
   "execution_count": 173,
   "metadata": {},
   "outputs": [
    {
     "data": {
      "text/plain": [
       "array([[13903.794],\n",
       "       [13956.154],\n",
       "       [14018.986],\n",
       "       [14057.383]])"
      ]
     },
     "execution_count": 173,
     "metadata": {},
     "output_type": "execute_result"
    }
   ],
   "source": [
    "def p_pc(data, pi=0):\n",
    "    pc_ = pc_calc(data, pi)\n",
    "    prod_ = np.prod(data, axis=1)\n",
    "    acc_ = np.add.accumulate(prod_)\n",
    "    return np.insert(acc_ + pc_, 0, pc_, axis=0)\n",
    "p_pc(data, pi=14_000).reshape(-1,1)"
   ]
  },
  {
   "cell_type": "code",
   "execution_count": 174,
   "metadata": {},
   "outputs": [],
   "source": [
    "test = np.array(\n",
    "    [\n",
    "        (10,np.deg2rad(8.611)),\n",
    "        (15,np.deg2rad(17.408)),\n",
    "        ( 5,np.deg2rad(5.591)),\n",
    "        (25,np.deg2rad(13.390))\n",
    "    ]\n",
    ")"
   ]
  },
  {
   "cell_type": "code",
   "execution_count": 175,
   "metadata": {},
   "outputs": [
    {
     "data": {
      "text/plain": [
       "array([[21.360,  0.331],\n",
       "       [22.675,  0.635],\n",
       "       [40.000,  0.785]])"
      ]
     },
     "execution_count": 175,
     "metadata": {},
     "output_type": "execute_result"
    }
   ],
   "source": [
    "diag(test[::-1])"
   ]
  },
  {
   "cell_type": "code",
   "execution_count": 176,
   "metadata": {},
   "outputs": [
    {
     "data": {
      "text/html": [
       "<style type=\"text/css\">\n",
       "</style>\n",
       "<table id=\"T_64059\">\n",
       "  <thead>\n",
       "    <tr>\n",
       "      <th class=\"blank level0\" >&nbsp;</th>\n",
       "      <th id=\"T_64059_level0_col0\" class=\"col_heading level0 col0\" >radios</th>\n",
       "      <th id=\"T_64059_level0_col1\" class=\"col_heading level0 col1\" >angulos</th>\n",
       "      <th id=\"T_64059_level0_col2\" class=\"col_heading level0 col2\" >cota_ac</th>\n",
       "    </tr>\n",
       "  </thead>\n",
       "  <tbody>\n",
       "    <tr>\n",
       "      <th id=\"T_64059_level0_row0\" class=\"row_heading level0 row0\" >0</th>\n",
       "      <td id=\"T_64059_row0_col0\" class=\"data row0 col0\" >100.0 m</td>\n",
       "      <td id=\"T_64059_row0_col1\" class=\"data row0 col1\" >30.0</td>\n",
       "      <td id=\"T_64059_row0_col2\" class=\"data row0 col2\" >13,903.794</td>\n",
       "    </tr>\n",
       "    <tr>\n",
       "      <th id=\"T_64059_level0_row1\" class=\"row_heading level0 row1\" >1</th>\n",
       "      <td id=\"T_64059_row1_col0\" class=\"data row1 col0\" >90.0 m</td>\n",
       "      <td id=\"T_64059_row1_col1\" class=\"data row1 col1\" >40.0</td>\n",
       "      <td id=\"T_64059_row1_col2\" class=\"data row1 col2\" >13,956.154</td>\n",
       "    </tr>\n",
       "    <tr>\n",
       "      <th id=\"T_64059_level0_row2\" class=\"row_heading level0 row2\" >2</th>\n",
       "      <td id=\"T_64059_row2_col0\" class=\"data row2 col0\" >110.0 m</td>\n",
       "      <td id=\"T_64059_row2_col1\" class=\"data row2 col1\" >20.0</td>\n",
       "      <td id=\"T_64059_row2_col2\" class=\"data row2 col2\" >14,018.986</td>\n",
       "    </tr>\n",
       "    <tr>\n",
       "      <th id=\"T_64059_level0_row3\" class=\"row_heading level0 row3\" >3</th>\n",
       "      <td id=\"T_64059_row3_col0\" class=\"data row3 col0\" >0.0 m</td>\n",
       "      <td id=\"T_64059_row3_col1\" class=\"data row3 col1\" >0.0</td>\n",
       "      <td id=\"T_64059_row3_col2\" class=\"data row3 col2\" >14,057.383</td>\n",
       "    </tr>\n",
       "  </tbody>\n",
       "</table>\n"
      ],
      "text/plain": [
       "<pandas.io.formats.style.Styler at 0x1f9e14a4430>"
      ]
     },
     "execution_count": 176,
     "metadata": {},
     "output_type": "execute_result"
    }
   ],
   "source": [
    "ZERO_PAR = np.array((0,0)).reshape(1,-1)\n",
    "_ = np.concatenate((data, ZERO_PAR), axis=0)\n",
    "_ = np.concatenate((_, p_pc(data, pi=14_000).reshape(-1,1)), axis=1)\n",
    "_ = pd.DataFrame(_, columns=['radios', 'angulos', 'cota_ac'])\n",
    "_.style.format({'radios': '{:} m', 'angulos': lambda x: round(np.rad2deg(x),3), 'cota_ac': '{:,.3f}'} ,precision=3)\n",
    "# print(pc_calc(data, pi=14_000))"
   ]
  },
  {
   "cell_type": "code",
   "execution_count": 230,
   "metadata": {},
   "outputs": [],
   "source": [
    "def gen_marks(array, prec = 1):\n",
    "    step = 10 ** prec\n",
    "    start = ((array[0] // 10**prec) + 1) * step\n",
    "    end = ((array[-1] // 10**prec) + 1) * step\n",
    "    arange = np.arange(start, end, step,)\n",
    "    return np.unique(np.sort(np.concatenate([arange, array])), axis=0)\n",
    "def diff_marks(array):\n",
    "    return np.append( (0), np.ediff1d(array))\n",
    "    # assert marks.ndim == 1, \"marks argument must be 1-Dimensional\"\n",
    "    # llist = [0]\n",
    "    # for low, sup in pairwise(marks):\n",
    "    #     llist.append(sup - low)\n",
    "    # return np.array(llist)"
   ]
  },
  {
   "cell_type": "code",
   "execution_count": 220,
   "metadata": {},
   "outputs": [],
   "source": [
    "cotas = p_pc(data, pi = 14_000)\n",
    "cotas"
   ]
  },
  {
   "cell_type": "code",
   "execution_count": 207,
   "metadata": {},
   "outputs": [
    {
     "data": {
      "text/plain": [
       "array([13903.794, 13910.000, 13920.000, 13930.000, 13940.000, 13950.000,\n",
       "       13956.154, 13960.000, 13970.000, 13980.000, 13990.000, 14000.000,\n",
       "       14010.000, 14018.986, 14020.000, 14030.000, 14040.000, 14050.000,\n",
       "       14057.383])"
      ]
     },
     "execution_count": 207,
     "metadata": {},
     "output_type": "execute_result"
    }
   ],
   "source": [
    "#acc_marks\n",
    "marks = gen_marks(cotas)\n",
    "marks"
   ]
  },
  {
   "cell_type": "code",
   "execution_count": 222,
   "metadata": {},
   "outputs": [
    {
     "data": {
      "text/plain": [
       "array([ 0.000,  6.206, 10.000, 10.000, 10.000, 10.000,  6.154,  3.846,\n",
       "       10.000, 10.000, 10.000, 10.000, 10.000,  8.986,  1.014, 10.000,\n",
       "       10.000, 10.000,  7.383])"
      ]
     },
     "execution_count": 222,
     "metadata": {},
     "output_type": "execute_result"
    }
   ],
   "source": [
    "# diff_marks\n",
    "diff_marks(marks)"
   ]
  },
  {
   "cell_type": "code",
   "execution_count": 211,
   "metadata": {},
   "outputs": [
    {
     "data": {
      "text/plain": [
       "array([  0.000,   6.206,  16.206,  26.206,  36.206,  46.206,  52.360,\n",
       "        56.206,  66.206,  76.206,  86.206,  96.206, 106.206, 115.192,\n",
       "       116.206, 126.206, 136.206, 146.206, 153.589])"
      ]
     },
     "execution_count": 211,
     "metadata": {},
     "output_type": "execute_result"
    }
   ],
   "source": [
    "np.add.accumulate(diff_marks(marks))"
   ]
  },
  {
   "cell_type": "code",
   "execution_count": 306,
   "metadata": {},
   "outputs": [],
   "source": [
    "def expand_idx(cotas, prec=1):\n",
    "    return np.array(np.round(np.ediff1d(cotas), -prec) // 10**prec, dtype=np.uint) + 1"
   ]
  },
  {
   "cell_type": "code",
   "execution_count": 428,
   "metadata": {},
   "outputs": [],
   "source": [
    "def expand__(matrix, prec=1, pi=0):\n",
    "    matrix = copy.deepcopy(matrix)\n",
    "    pc = p_pc(matrix, pi)\n",
    "    marks = gen_marks(pc, prec=prec)\n",
    "    pc = pc[1:]\n",
    "    # matrix = np.concatenate((matrix, ZERO_PAR))\n",
    "    matrix = np.concatenate((matrix, pc.reshape(-1,1)), axis=1)\n",
    "    llist = []\n",
    "    iiter = iter(matrix)\n",
    "    vector = next(iiter)\n",
    "    for mark in marks[:-1]:\n",
    "        if mark == vector[2]:\n",
    "            vector = next(iiter)\n",
    "            # continue\n",
    "        llist.append( np.append(vector[:2], mark))\n",
    "    return np.append( np.array(llist), ((0,0,marks[-1]),), axis=0)\n",
    "        \n",
    "        "
   ]
  },
  {
   "cell_type": "code",
   "execution_count": 429,
   "metadata": {},
   "outputs": [
    {
     "data": {
      "text/plain": [
       "array([[  100.000,     0.524, 13903.794],\n",
       "       [  100.000,     0.524, 13910.000],\n",
       "       [  100.000,     0.524, 13920.000],\n",
       "       [  100.000,     0.524, 13930.000],\n",
       "       [  100.000,     0.524, 13940.000],\n",
       "       [  100.000,     0.524, 13950.000],\n",
       "       [   90.000,     0.698, 13956.154],\n",
       "       [   90.000,     0.698, 13960.000],\n",
       "       [   90.000,     0.698, 13970.000],\n",
       "       [   90.000,     0.698, 13980.000],\n",
       "       [   90.000,     0.698, 13990.000],\n",
       "       [   90.000,     0.698, 14000.000],\n",
       "       [   90.000,     0.698, 14010.000],\n",
       "       [  110.000,     0.349, 14018.986],\n",
       "       [  110.000,     0.349, 14020.000],\n",
       "       [  110.000,     0.349, 14030.000],\n",
       "       [  110.000,     0.349, 14040.000],\n",
       "       [  110.000,     0.349, 14050.000],\n",
       "       [    0.000,     0.000, 14057.383]])"
      ]
     },
     "execution_count": 429,
     "metadata": {},
     "output_type": "execute_result"
    }
   ],
   "source": [
    "expand__(data, pi=14_000)"
   ]
  },
  {
   "cell_type": "code",
   "execution_count": 435,
   "metadata": {},
   "outputs": [],
   "source": [
    "def expand(matrix, prec=1, pi=0):\n",
    "    expanded = expand__(matrix, prec=prec, pi=pi)\n",
    "    return np.append( expanded, diff_marks(expanded[:,2]).reshape(-1,1),axis=1)"
   ]
  },
  {
   "cell_type": "code",
   "execution_count": 436,
   "metadata": {},
   "outputs": [
    {
     "data": {
      "text/plain": [
       "array([[  100.000,     0.524, 13903.794,     0.000],\n",
       "       [  100.000,     0.524, 13910.000,     6.206],\n",
       "       [  100.000,     0.524, 13920.000,    10.000],\n",
       "       [  100.000,     0.524, 13930.000,    10.000],\n",
       "       [  100.000,     0.524, 13940.000,    10.000],\n",
       "       [  100.000,     0.524, 13950.000,    10.000],\n",
       "       [   90.000,     0.698, 13956.154,     6.154],\n",
       "       [   90.000,     0.698, 13960.000,     3.846],\n",
       "       [   90.000,     0.698, 13970.000,    10.000],\n",
       "       [   90.000,     0.698, 13980.000,    10.000],\n",
       "       [   90.000,     0.698, 13990.000,    10.000],\n",
       "       [   90.000,     0.698, 14000.000,    10.000],\n",
       "       [   90.000,     0.698, 14010.000,    10.000],\n",
       "       [  110.000,     0.349, 14018.986,     8.986],\n",
       "       [  110.000,     0.349, 14020.000,     1.014],\n",
       "       [  110.000,     0.349, 14030.000,    10.000],\n",
       "       [  110.000,     0.349, 14040.000,    10.000],\n",
       "       [  110.000,     0.349, 14050.000,    10.000],\n",
       "       [    0.000,     0.000, 14057.383,     7.383]])"
      ]
     },
     "execution_count": 436,
     "metadata": {},
     "output_type": "execute_result"
    }
   ],
   "source": [
    "expand(data, pi=14_000)"
   ]
  },
  {
   "cell_type": "code",
   "execution_count": 449,
   "metadata": {},
   "outputs": [],
   "source": [
    "def gamma_rad(array):\n",
    "    \"Function that calculates gamma value. Angle must be in radians.\"\n",
    "    assert array.shape[0] == 2\n",
    "    if array[0] == 0:\n",
    "        return np.float_(0)\n",
    "    return array[1] / (2 * array[0])\n",
    "gamma_rad_vec = lambda matrix: np.apply_along_axis(gamma_rad, 1, matrix)"
   ]
  },
  {
   "cell_type": "code",
   "execution_count": 462,
   "metadata": {},
   "outputs": [],
   "source": [
    "np.set_printoptions(precision=10)"
   ]
  },
  {
   "cell_type": "code",
   "execution_count": 498,
   "metadata": {},
   "outputs": [],
   "source": [
    "def deg_to_deg(array):\n",
    "    llist = []\n",
    "    for value in array:\n",
    "        int_ = int(value)\n",
    "        b = (value - int_) * 60\n",
    "        c = (b - int(b)) * 60\n",
    "        llist.append('{}º {}\" {}`'.format(int_, int(b), round(float(c),3)))\n",
    "    return np.array(llist)"
   ]
  },
  {
   "cell_type": "code",
   "execution_count": 483,
   "metadata": {},
   "outputs": [
    {
     "data": {
      "text/plain": [
       "3"
      ]
     },
     "execution_count": 483,
     "metadata": {},
     "output_type": "execute_result"
    }
   ],
   "source": [
    "int(3.14)"
   ]
  },
  {
   "cell_type": "code",
   "execution_count": 499,
   "metadata": {},
   "outputs": [
    {
     "name": "stdout",
     "output_type": "stream",
     "text": [
      "[['0º 0\" 0.0`']\n",
      " ['1º 46\" 40.549`']\n",
      " ['2º 51\" 53.24`']\n",
      " ['2º 51\" 53.24`']\n",
      " ['2º 51\" 53.24`']\n",
      " ['2º 51\" 53.24`']\n",
      " ['1º 57\" 31.655`']\n",
      " ['1º 13\" 27.501`']\n",
      " ['3º 10\" 59.156`']\n",
      " ['3º 10\" 59.156`']\n",
      " ['3º 10\" 59.156`']\n",
      " ['3º 10\" 59.156`']\n",
      " ['3º 10\" 59.156`']\n",
      " ['2º 20\" 24.589`']\n",
      " ['0º 15\" 51.084`']\n",
      " ['2º 36\" 15.673`']\n",
      " ['2º 36\" 15.673`']\n",
      " ['2º 36\" 15.673`']\n",
      " ['0º 0\" 0.0`']]\n"
     ]
    }
   ],
   "source": [
    "_ = expand(data, pi=14_000)\n",
    "_ = gamma_rad_vec(_[:,[0,3]])\n",
    "_ = np.rad2deg(_.reshape(-1,1))\n",
    "print(deg_to_deg(_).reshape(-1,1))"
   ]
  },
  {
   "cell_type": "code",
   "execution_count": 501,
   "metadata": {},
   "outputs": [
    {
     "data": {
      "text/plain": [
       "array([['0º 0\" 0.0`'],\n",
       "       ['1º 46\" 40.549`'],\n",
       "       ['4º 38\" 33.789`'],\n",
       "       ['7º 30\" 27.03`'],\n",
       "       ['10º 22\" 20.27`'],\n",
       "       ['13º 14\" 13.51`'],\n",
       "       ['15º 11\" 45.166`'],\n",
       "       ['16º 25\" 12.666`'],\n",
       "       ['19º 36\" 11.822`'],\n",
       "       ['22º 47\" 10.978`'],\n",
       "       ['25º 58\" 10.134`'],\n",
       "       ['29º 9\" 9.29`'],\n",
       "       ['32º 20\" 8.446`'],\n",
       "       ['34º 40\" 33.035`'],\n",
       "       ['34º 56\" 24.119`'],\n",
       "       ['37º 32\" 39.792`'],\n",
       "       ['40º 8\" 55.465`'],\n",
       "       ['42º 45\" 11.138`'],\n",
       "       ['42º 45\" 11.138`']], dtype='<U15')"
      ]
     },
     "execution_count": 501,
     "metadata": {},
     "output_type": "execute_result"
    }
   ],
   "source": [
    "deg_to_deg(np.add.accumulate(_)).reshape(-1,1)"
   ]
  },
  {
   "cell_type": "code",
   "execution_count": 317,
   "metadata": {},
   "outputs": [
    {
     "name": "stdout",
     "output_type": "stream",
     "text": [
      "[100.000   0.524]\n",
      "[90.000  0.698]\n"
     ]
    }
   ],
   "source": [
    "aaa = iter(data)\n",
    "print(next(aaa))\n",
    "print(next(aaa))"
   ]
  },
  {
   "cell_type": "code",
   "execution_count": 287,
   "metadata": {},
   "outputs": [
    {
     "data": {
      "text/plain": [
       "158"
      ]
     },
     "execution_count": 287,
     "metadata": {},
     "output_type": "execute_result"
    }
   ],
   "source": [
    "gen_marks(p_pc(data, pi=14_000), prec=0).__len__()"
   ]
  },
  {
   "cell_type": "code",
   "execution_count": 293,
   "metadata": {},
   "outputs": [],
   "source": [
    "def expand(data, prec=1, pi=0):\n",
    "    data = copy.deepcopy(data)\n",
    "    match data.shape[1]:\n",
    "        case 2:\n",
    "            pc = p_pc(data, pi=pi)\n",
    "        case 3:\n",
    "            pc = data[:,2]\n",
    "            data = data[:,:2]\n",
    "        case _:\n",
    "            raise Exception\n",
    "    idx = expand_idx(pc, prec=prec)\n",
    "    print(sum(idx))\n",
    "    # if prec == 0:\n",
    "    repeated = np.repeat(data, idx, axis=0)\n",
    "    repeated = np.append(repeated, ZERO_PAR, axis=0)\n",
    "    print(repeated.shape)\n",
    "    marks = gen_marks(pc, prec).reshape(-1,1)\n",
    "    print(marks.shape)\n",
    "    diff_marks_ = diff_marks(marks).reshape(-1,1)\n",
    "    print(diff_marks_.shape)\n",
    "    return np.concatenate((repeated, marks, diff_marks_), axis=1)\n",
    "    # print(data)\n",
    "    # print(pc)\n",
    "    # dims = p_pc(data)\n",
    "    # marks = mark_(, prec)\n",
    "    # print(repeated)\n",
    "    # print(pc)\n",
    "    # data = np.append(data, (0,0))\n",
    "    # return np.repeat(data, np.append(idx_, (1)), axis=0)\n",
    "    # return data"
   ]
  },
  {
   "cell_type": "code",
   "execution_count": 307,
   "metadata": {},
   "outputs": [
    {
     "name": "stdout",
     "output_type": "stream",
     "text": [
      "18\n",
      "(19, 2)\n",
      "(19, 1)\n",
      "(19, 1)\n"
     ]
    },
    {
     "data": {
      "text/plain": [
       "array([[  100.000,     0.524, 13903.794,     0.000],\n",
       "       [  100.000,     0.524, 13910.000,     6.206],\n",
       "       [  100.000,     0.524, 13920.000,    10.000],\n",
       "       [  100.000,     0.524, 13930.000,    10.000],\n",
       "       [  100.000,     0.524, 13940.000,    10.000],\n",
       "       [  100.000,     0.524, 13950.000,    10.000],\n",
       "       [   90.000,     0.698, 13956.154,     6.154],\n",
       "       [   90.000,     0.698, 13960.000,     3.846],\n",
       "       [   90.000,     0.698, 13970.000,    10.000],\n",
       "       [   90.000,     0.698, 13980.000,    10.000],\n",
       "       [   90.000,     0.698, 13990.000,    10.000],\n",
       "       [   90.000,     0.698, 14000.000,    10.000],\n",
       "       [   90.000,     0.698, 14010.000,    10.000],\n",
       "       [  110.000,     0.349, 14018.986,     8.986],\n",
       "       [  110.000,     0.349, 14020.000,     1.014],\n",
       "       [  110.000,     0.349, 14030.000,    10.000],\n",
       "       [  110.000,     0.349, 14040.000,    10.000],\n",
       "       [  110.000,     0.349, 14050.000,    10.000],\n",
       "       [    0.000,     0.000, 14057.383,     7.383]])"
      ]
     },
     "execution_count": 307,
     "metadata": {},
     "output_type": "execute_result"
    }
   ],
   "source": [
    "expand(data, pi=14_000, prec=1)"
   ]
  },
  {
   "cell_type": "code",
   "execution_count": null,
   "metadata": {},
   "outputs": [],
   "source": [
    "def gamma()"
   ]
  },
  {
   "cell_type": "code",
   "execution_count": 114,
   "metadata": {},
   "outputs": [
    {
     "data": {
      "text/plain": [
       "array([[100.000,   0.524],\n",
       "       [ 90.000,   0.698],\n",
       "       [110.000,   0.349]])"
      ]
     },
     "execution_count": 114,
     "metadata": {},
     "output_type": "execute_result"
    }
   ],
   "source": [
    "data"
   ]
  },
  {
   "cell_type": "code",
   "execution_count": 117,
   "metadata": {},
   "outputs": [
    {
     "data": {
      "text/plain": [
       "array([[100.000,   0.524],\n",
       "       [ 90.000,   0.698],\n",
       "       [110.000,   0.349],\n",
       "       [  0.000,   0.000]])"
      ]
     },
     "execution_count": 117,
     "metadata": {},
     "output_type": "execute_result"
    }
   ],
   "source": [
    "expand(data).reshape(-1,2)"
   ]
  },
  {
   "cell_type": "code",
   "execution_count": 100,
   "metadata": {},
   "outputs": [
    {
     "data": {
      "text/plain": [
       "array([[13903.794],\n",
       "       [13956.154]])"
      ]
     },
     "execution_count": 100,
     "metadata": {},
     "output_type": "execute_result"
    }
   ],
   "source": [
    "expand(cotas).reshape(-1,1)"
   ]
  },
  {
   "cell_type": "code",
   "execution_count": 79,
   "metadata": {},
   "outputs": [
    {
     "data": {
      "text/plain": [
       "array([[7],\n",
       "       [7],\n",
       "       [5]])"
      ]
     },
     "execution_count": 79,
     "metadata": {},
     "output_type": "execute_result"
    }
   ],
   "source": [
    "_ = np.array(list(pairwise(np.round(cotas, -1))))\n",
    "np.array(np.round(np.diff(_, axis=1), -1) // 10, dtype=np.int_) + 1"
   ]
  },
  {
   "cell_type": "code",
   "execution_count": 67,
   "metadata": {},
   "outputs": [
    {
     "data": {
      "text/plain": [
       "array([6, 7, 4])"
      ]
     },
     "execution_count": 67,
     "metadata": {},
     "output_type": "execute_result"
    }
   ],
   "source": [
    "expand(cotas)"
   ]
  },
  {
   "cell_type": "code",
   "execution_count": 47,
   "metadata": {},
   "outputs": [
    {
     "data": {
      "text/plain": [
       "array([[13903.794],\n",
       "       [13956.154],\n",
       "       [13956.154],\n",
       "       [14018.986],\n",
       "       [14018.986],\n",
       "       [14018.986],\n",
       "       [14057.383],\n",
       "       [14057.383],\n",
       "       [14057.383],\n",
       "       [14057.383]])"
      ]
     },
     "execution_count": 47,
     "metadata": {},
     "output_type": "execute_result"
    }
   ],
   "source": [
    "np.repeat(cotas, [1,2,3,4], axis=0).reshape(-1,1)"
   ]
  }
 ],
 "metadata": {
  "kernelspec": {
   "display_name": "Python 3.10.6 ('ds')",
   "language": "python",
   "name": "python3"
  },
  "language_info": {
   "codemirror_mode": {
    "name": "ipython",
    "version": 3
   },
   "file_extension": ".py",
   "mimetype": "text/x-python",
   "name": "python",
   "nbconvert_exporter": "python",
   "pygments_lexer": "ipython3",
   "version": "3.10.6"
  },
  "orig_nbformat": 4,
  "vscode": {
   "interpreter": {
    "hash": "71dda1f36ff01dd8280b241c9bbd2200903794e3fcef25f2dfa7d2687b44f136"
   }
  }
 },
 "nbformat": 4,
 "nbformat_minor": 2
}
