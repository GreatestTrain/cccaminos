{
 "cells": [
  {
   "cell_type": "code",
   "execution_count": 5,
   "metadata": {},
   "outputs": [],
   "source": [
    "from module import *\n",
    "import pandas as pd\n",
    "import numpy as np\n",
    "from IPython.display import Latex, display_latex"
   ]
  },
  {
   "cell_type": "code",
   "execution_count": 6,
   "metadata": {},
   "outputs": [
    {
     "name": "stdout",
     "output_type": "stream",
     "text": [
      "The autoreload extension is already loaded. To reload it, use:\n",
      "  %reload_ext autoreload\n"
     ]
    }
   ],
   "source": [
    "%load_ext autoreload\n",
    "%autoreload 2"
   ]
  },
  {
   "cell_type": "code",
   "execution_count": 7,
   "metadata": {},
   "outputs": [],
   "source": [
    "PRECISION = 3\n",
    "np.set_printoptions(precision=PRECISION, suppress=True)\n",
    "pd.options.display.float_format = \"{:.3f}\".format"
   ]
  },
  {
   "cell_type": "markdown",
   "metadata": {},
   "source": [
    "## Data input"
   ]
  },
  {
   "cell_type": "code",
   "execution_count": 8,
   "metadata": {},
   "outputs": [
    {
     "data": {
      "text/html": [
       "<div>\n",
       "<style scoped>\n",
       "    .dataframe tbody tr th:only-of-type {\n",
       "        vertical-align: middle;\n",
       "    }\n",
       "\n",
       "    .dataframe tbody tr th {\n",
       "        vertical-align: top;\n",
       "    }\n",
       "\n",
       "    .dataframe thead th {\n",
       "        text-align: right;\n",
       "    }\n",
       "</style>\n",
       "<table border=\"1\" class=\"dataframe\">\n",
       "  <thead>\n",
       "    <tr style=\"text-align: right;\">\n",
       "      <th></th>\n",
       "      <th>radios</th>\n",
       "      <th>angulos</th>\n",
       "    </tr>\n",
       "  </thead>\n",
       "  <tbody>\n",
       "    <tr>\n",
       "      <th>0</th>\n",
       "      <td>100.000</td>\n",
       "      <td>30.000</td>\n",
       "    </tr>\n",
       "    <tr>\n",
       "      <th>1</th>\n",
       "      <td>90.000</td>\n",
       "      <td>40.000</td>\n",
       "    </tr>\n",
       "    <tr>\n",
       "      <th>2</th>\n",
       "      <td>110.000</td>\n",
       "      <td>20.000</td>\n",
       "    </tr>\n",
       "  </tbody>\n",
       "</table>\n",
       "</div>"
      ],
      "text/plain": [
       "   radios  angulos\n",
       "0 100.000   30.000\n",
       "1  90.000   40.000\n",
       "2 110.000   20.000"
      ]
     },
     "execution_count": 8,
     "metadata": {},
     "output_type": "execute_result"
    }
   ],
   "source": [
    "# R -> Radios\n",
    "# < -> Angulos en º\n",
    "data = np.array(\n",
    "    [\n",
    "        # R    # <\n",
    "        (100., np.deg2rad(30)),\n",
    "        ( 90., np.deg2rad(40)),\n",
    "        (110., np.deg2rad(20)),\n",
    "    ],\n",
    ")\n",
    "_ = pd.DataFrame(data, columns=['radios', 'angulos'])\n",
    "__ = _.apply({'radios': lambda x: x, 'angulos': np.rad2deg})\n",
    "__"
   ]
  },
  {
   "cell_type": "code",
   "execution_count": 9,
   "metadata": {},
   "outputs": [
    {
     "data": {
      "text/latex": [
       "$ 100.0 \\times \\tan15.0º \\qquad = 26.795 $"
      ]
     },
     "metadata": {},
     "output_type": "display_data"
    },
    {
     "data": {
      "text/latex": [
       "$ 90.0 \\times \\tan20.0º \\qquad = 32.757 $"
      ]
     },
     "metadata": {},
     "output_type": "display_data"
    },
    {
     "data": {
      "text/latex": [
       "$ 110.0 \\times \\tan10.0º \\qquad = 19.396 $"
      ]
     },
     "metadata": {},
     "output_type": "display_data"
    },
    {
     "data": {
      "text/html": [
       "<div>\n",
       "<style scoped>\n",
       "    .dataframe tbody tr th:only-of-type {\n",
       "        vertical-align: middle;\n",
       "    }\n",
       "\n",
       "    .dataframe tbody tr th {\n",
       "        vertical-align: top;\n",
       "    }\n",
       "\n",
       "    .dataframe thead th {\n",
       "        text-align: right;\n",
       "    }\n",
       "</style>\n",
       "<table border=\"1\" class=\"dataframe\">\n",
       "  <thead>\n",
       "    <tr style=\"text-align: right;\">\n",
       "      <th></th>\n",
       "      <th>radios</th>\n",
       "      <th>angulos</th>\n",
       "      <th>subtangentes</th>\n",
       "    </tr>\n",
       "  </thead>\n",
       "  <tbody>\n",
       "    <tr>\n",
       "      <th>0</th>\n",
       "      <td>100.000</td>\n",
       "      <td>0.524</td>\n",
       "      <td>26.795</td>\n",
       "    </tr>\n",
       "    <tr>\n",
       "      <th>1</th>\n",
       "      <td>90.000</td>\n",
       "      <td>0.698</td>\n",
       "      <td>32.757</td>\n",
       "    </tr>\n",
       "    <tr>\n",
       "      <th>2</th>\n",
       "      <td>110.000</td>\n",
       "      <td>0.349</td>\n",
       "      <td>19.396</td>\n",
       "    </tr>\n",
       "  </tbody>\n",
       "</table>\n",
       "</div>"
      ],
      "text/plain": [
       "   radios  angulos  subtangentes\n",
       "0 100.000    0.524        26.795\n",
       "1  90.000    0.698        32.757\n",
       "2 110.000    0.349        19.396"
      ]
     },
     "execution_count": 9,
     "metadata": {},
     "output_type": "execute_result"
    }
   ],
   "source": [
    "subtangentes = st_vec(data)\n",
    "for idx, row in __.iterrows():\n",
    "    A = np.float32(row['angulos'])\n",
    "    R = np.float32(row['radios'])\n",
    "    string = f'$ {R} \\\\times \\\\tan{A / 2}º \\\\qquad = {round(subtangentes[idx], PRECISION)} $'\n",
    "    display_latex(Latex(string))\n",
    "    \n",
    "_['subtangentes'] = subtangentes\n",
    "_"
   ]
  },
  {
   "cell_type": "code",
   "execution_count": 10,
   "metadata": {},
   "outputs": [
    {
     "data": {
      "text/plain": [
       "array([[20.597,  1.047],\n",
       "       [69.411,  1.571]])"
      ]
     },
     "execution_count": 10,
     "metadata": {},
     "output_type": "execute_result"
    }
   ],
   "source": [
    "# Calculo de diagonales\n",
    "diag_vec(data[::-1], st_=True)"
   ]
  },
  {
   "cell_type": "code",
   "execution_count": 11,
   "metadata": {},
   "outputs": [
    {
     "data": {
      "text/plain": [
       "array([13903.794, 13956.154, 14018.986, 14057.383])"
      ]
     },
     "execution_count": 11,
     "metadata": {},
     "output_type": "execute_result"
    }
   ],
   "source": [
    "# Calculo de cotas\n",
    "p_total(data, pi=14_000)"
   ]
  },
  {
   "cell_type": "code",
   "execution_count": 12,
   "metadata": {},
   "outputs": [
    {
     "data": {
      "text/html": [
       "<div>\n",
       "<style scoped>\n",
       "    .dataframe tbody tr th:only-of-type {\n",
       "        vertical-align: middle;\n",
       "    }\n",
       "\n",
       "    .dataframe tbody tr th {\n",
       "        vertical-align: top;\n",
       "    }\n",
       "\n",
       "    .dataframe thead th {\n",
       "        text-align: right;\n",
       "    }\n",
       "</style>\n",
       "<table border=\"1\" class=\"dataframe\">\n",
       "  <thead>\n",
       "    <tr style=\"text-align: right;\">\n",
       "      <th></th>\n",
       "      <th>radio</th>\n",
       "      <th>angulo</th>\n",
       "      <th>cota</th>\n",
       "    </tr>\n",
       "  </thead>\n",
       "  <tbody>\n",
       "    <tr>\n",
       "      <th>0</th>\n",
       "      <td>100.000</td>\n",
       "      <td>0.524</td>\n",
       "      <td>13903.794</td>\n",
       "    </tr>\n",
       "    <tr>\n",
       "      <th>1</th>\n",
       "      <td>100.000</td>\n",
       "      <td>0.524</td>\n",
       "      <td>13910.000</td>\n",
       "    </tr>\n",
       "    <tr>\n",
       "      <th>2</th>\n",
       "      <td>100.000</td>\n",
       "      <td>0.524</td>\n",
       "      <td>13920.000</td>\n",
       "    </tr>\n",
       "    <tr>\n",
       "      <th>3</th>\n",
       "      <td>100.000</td>\n",
       "      <td>0.524</td>\n",
       "      <td>13930.000</td>\n",
       "    </tr>\n",
       "    <tr>\n",
       "      <th>4</th>\n",
       "      <td>100.000</td>\n",
       "      <td>0.524</td>\n",
       "      <td>13940.000</td>\n",
       "    </tr>\n",
       "    <tr>\n",
       "      <th>5</th>\n",
       "      <td>100.000</td>\n",
       "      <td>0.524</td>\n",
       "      <td>13950.000</td>\n",
       "    </tr>\n",
       "    <tr>\n",
       "      <th>6</th>\n",
       "      <td>90.000</td>\n",
       "      <td>0.698</td>\n",
       "      <td>13956.154</td>\n",
       "    </tr>\n",
       "    <tr>\n",
       "      <th>7</th>\n",
       "      <td>90.000</td>\n",
       "      <td>0.698</td>\n",
       "      <td>13960.000</td>\n",
       "    </tr>\n",
       "    <tr>\n",
       "      <th>8</th>\n",
       "      <td>90.000</td>\n",
       "      <td>0.698</td>\n",
       "      <td>13970.000</td>\n",
       "    </tr>\n",
       "    <tr>\n",
       "      <th>9</th>\n",
       "      <td>90.000</td>\n",
       "      <td>0.698</td>\n",
       "      <td>13980.000</td>\n",
       "    </tr>\n",
       "    <tr>\n",
       "      <th>10</th>\n",
       "      <td>90.000</td>\n",
       "      <td>0.698</td>\n",
       "      <td>13990.000</td>\n",
       "    </tr>\n",
       "    <tr>\n",
       "      <th>11</th>\n",
       "      <td>90.000</td>\n",
       "      <td>0.698</td>\n",
       "      <td>14000.000</td>\n",
       "    </tr>\n",
       "    <tr>\n",
       "      <th>12</th>\n",
       "      <td>90.000</td>\n",
       "      <td>0.698</td>\n",
       "      <td>14010.000</td>\n",
       "    </tr>\n",
       "    <tr>\n",
       "      <th>13</th>\n",
       "      <td>110.000</td>\n",
       "      <td>0.349</td>\n",
       "      <td>14018.986</td>\n",
       "    </tr>\n",
       "    <tr>\n",
       "      <th>14</th>\n",
       "      <td>110.000</td>\n",
       "      <td>0.349</td>\n",
       "      <td>14020.000</td>\n",
       "    </tr>\n",
       "    <tr>\n",
       "      <th>15</th>\n",
       "      <td>110.000</td>\n",
       "      <td>0.349</td>\n",
       "      <td>14030.000</td>\n",
       "    </tr>\n",
       "    <tr>\n",
       "      <th>16</th>\n",
       "      <td>110.000</td>\n",
       "      <td>0.349</td>\n",
       "      <td>14040.000</td>\n",
       "    </tr>\n",
       "    <tr>\n",
       "      <th>17</th>\n",
       "      <td>110.000</td>\n",
       "      <td>0.349</td>\n",
       "      <td>14050.000</td>\n",
       "    </tr>\n",
       "    <tr>\n",
       "      <th>18</th>\n",
       "      <td>0.000</td>\n",
       "      <td>0.000</td>\n",
       "      <td>14057.383</td>\n",
       "    </tr>\n",
       "  </tbody>\n",
       "</table>\n",
       "</div>"
      ],
      "text/plain": [
       "     radio  angulo      cota\n",
       "0  100.000   0.524 13903.794\n",
       "1  100.000   0.524 13910.000\n",
       "2  100.000   0.524 13920.000\n",
       "3  100.000   0.524 13930.000\n",
       "4  100.000   0.524 13940.000\n",
       "5  100.000   0.524 13950.000\n",
       "6   90.000   0.698 13956.154\n",
       "7   90.000   0.698 13960.000\n",
       "8   90.000   0.698 13970.000\n",
       "9   90.000   0.698 13980.000\n",
       "10  90.000   0.698 13990.000\n",
       "11  90.000   0.698 14000.000\n",
       "12  90.000   0.698 14010.000\n",
       "13 110.000   0.349 14018.986\n",
       "14 110.000   0.349 14020.000\n",
       "15 110.000   0.349 14030.000\n",
       "16 110.000   0.349 14040.000\n",
       "17 110.000   0.349 14050.000\n",
       "18   0.000   0.000 14057.383"
      ]
     },
     "execution_count": 12,
     "metadata": {},
     "output_type": "execute_result"
    }
   ],
   "source": [
    "expanded = expand__(data, pi=14_000, prec=10)\n",
    "_ = pd.DataFrame(expanded, columns=['radio', 'angulo', 'cota'])\n",
    "# _['gamma'] = gamma_vec(expanded[:,1:3])\n",
    "_"
   ]
  }
 ],
 "metadata": {
  "kernelspec": {
   "display_name": "Python 3.10.6 ('ds')",
   "language": "python",
   "name": "python3"
  },
  "language_info": {
   "codemirror_mode": {
    "name": "ipython",
    "version": 3
   },
   "file_extension": ".py",
   "mimetype": "text/x-python",
   "name": "python",
   "nbconvert_exporter": "python",
   "pygments_lexer": "ipython3",
   "version": "3.10.6"
  },
  "orig_nbformat": 4,
  "vscode": {
   "interpreter": {
    "hash": "71dda1f36ff01dd8280b241c9bbd2200903794e3fcef25f2dfa7d2687b44f136"
   }
  }
 },
 "nbformat": 4,
 "nbformat_minor": 2
}
