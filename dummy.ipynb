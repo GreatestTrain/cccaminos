{
 "cells": [
  {
   "cell_type": "code",
   "execution_count": 1,
   "metadata": {},
   "outputs": [],
   "source": [
    "from module import *\n",
    "import pandas as pd\n",
    "import numpy as np\n",
    "from IPython.display import Latex, display_latex"
   ]
  },
  {
   "cell_type": "code",
   "execution_count": 6,
   "metadata": {},
   "outputs": [],
   "source": [
    "%load_ext autoreload\n",
    "%autoreload 2"
   ]
  },
  {
   "cell_type": "code",
   "execution_count": 7,
   "metadata": {},
   "outputs": [],
   "source": [
    "PRECISION = 3\n",
    "np.set_printoptions(precision=PRECISION)"
   ]
  },
  {
   "cell_type": "markdown",
   "metadata": {},
   "source": [
    "## Data input"
   ]
  },
  {
   "cell_type": "code",
   "execution_count": 8,
   "metadata": {},
   "outputs": [],
   "source": [
    "# R -> Radios\n",
    "# < -> Angulos en º\n",
    "data = np.array(\n",
    "    [\n",
    "        # R    # <\n",
    "        (100., np.deg2rad(30)),\n",
    "        ( 90., np.deg2rad(40)),\n",
    "        (110., np.deg2rad(20)),\n",
    "    ],\n",
    ")\n",
    "_ = pd.DataFrame(data, columns=['radios', 'angulos'])\n",
    "__ = _.apply({'radios': lambda x: x, 'angulos': np.rad2deg})"
   ]
  },
  {
   "cell_type": "code",
   "execution_count": 9,
   "metadata": {},
   "outputs": [
    {
     "data": {
      "text/latex": [
       "$ 100.0 \\times \\tan15.0º \\qquad = 26.795 $"
      ]
     },
     "metadata": {},
     "output_type": "display_data"
    },
    {
     "data": {
      "text/latex": [
       "$ 90.0 \\times \\tan20.0º \\qquad = 32.757 $"
      ]
     },
     "metadata": {},
     "output_type": "display_data"
    },
    {
     "data": {
      "text/latex": [
       "$ 110.0 \\times \\tan10.0º \\qquad = 19.396 $"
      ]
     },
     "metadata": {},
     "output_type": "display_data"
    },
    {
     "data": {
      "text/html": [
       "<div>\n",
       "<style scoped>\n",
       "    .dataframe tbody tr th:only-of-type {\n",
       "        vertical-align: middle;\n",
       "    }\n",
       "\n",
       "    .dataframe tbody tr th {\n",
       "        vertical-align: top;\n",
       "    }\n",
       "\n",
       "    .dataframe thead th {\n",
       "        text-align: right;\n",
       "    }\n",
       "</style>\n",
       "<table border=\"1\" class=\"dataframe\">\n",
       "  <thead>\n",
       "    <tr style=\"text-align: right;\">\n",
       "      <th></th>\n",
       "      <th>radios</th>\n",
       "      <th>angulos</th>\n",
       "      <th>subtangentes</th>\n",
       "    </tr>\n",
       "  </thead>\n",
       "  <tbody>\n",
       "    <tr>\n",
       "      <th>0</th>\n",
       "      <td>100.0</td>\n",
       "      <td>0.523599</td>\n",
       "      <td>26.794919</td>\n",
       "    </tr>\n",
       "    <tr>\n",
       "      <th>1</th>\n",
       "      <td>90.0</td>\n",
       "      <td>0.698132</td>\n",
       "      <td>32.757321</td>\n",
       "    </tr>\n",
       "    <tr>\n",
       "      <th>2</th>\n",
       "      <td>110.0</td>\n",
       "      <td>0.349066</td>\n",
       "      <td>19.395968</td>\n",
       "    </tr>\n",
       "  </tbody>\n",
       "</table>\n",
       "</div>"
      ],
      "text/plain": [
       "   radios   angulos  subtangentes\n",
       "0   100.0  0.523599     26.794919\n",
       "1    90.0  0.698132     32.757321\n",
       "2   110.0  0.349066     19.395968"
      ]
     },
     "execution_count": 9,
     "metadata": {},
     "output_type": "execute_result"
    }
   ],
   "source": [
    "subtangentes = st_vec(data)\n",
    "for idx, row in __.iterrows():\n",
    "    A = np.float32(row['angulos'])\n",
    "    R = np.float32(row['radios'])\n",
    "    string = f'$ {R} \\\\times \\\\tan{A / 2}º \\\\qquad = {round(subtangentes[idx], PRECISION)} $'\n",
    "    display_latex(Latex(string))\n",
    "    \n",
    "_['subtangentes'] = subtangentes\n",
    "_"
   ]
  },
  {
   "cell_type": "code",
   "execution_count": 10,
   "metadata": {},
   "outputs": [
    {
     "data": {
      "text/plain": [
       "array([[20.597,  1.047],\n",
       "       [69.411,  1.571]])"
      ]
     },
     "execution_count": 10,
     "metadata": {},
     "output_type": "execute_result"
    }
   ],
   "source": [
    "# Calculo de diagonales\n",
    "diag_vec(data[::-1], st_=True)"
   ]
  },
  {
   "cell_type": "code",
   "execution_count": 11,
   "metadata": {},
   "outputs": [
    {
     "data": {
      "text/plain": [
       "array([13903.794, 13956.154, 14018.986, 14057.383])"
      ]
     },
     "execution_count": 11,
     "metadata": {},
     "output_type": "execute_result"
    }
   ],
   "source": [
    "# Calculo de cotas\n",
    "p_total(data, pi=14_000)"
   ]
  }
 ],
 "metadata": {
  "kernelspec": {
   "display_name": "Python 3.10.6 ('ds')",
   "language": "python",
   "name": "python3"
  },
  "language_info": {
   "codemirror_mode": {
    "name": "ipython",
    "version": 3
   },
   "file_extension": ".py",
   "mimetype": "text/x-python",
   "name": "python",
   "nbconvert_exporter": "python",
   "pygments_lexer": "ipython3",
   "version": "3.10.6"
  },
  "orig_nbformat": 4,
  "vscode": {
   "interpreter": {
    "hash": "71dda1f36ff01dd8280b241c9bbd2200903794e3fcef25f2dfa7d2687b44f136"
   }
  }
 },
 "nbformat": 4,
 "nbformat_minor": 2
}
